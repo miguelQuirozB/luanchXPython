{
 "cells": [
  {
   "cell_type": "markdown",
   "metadata": {},
   "source": [
    "# Kata 3\n",
    "*Autor*: Jose Miguel Quiroz"
   ]
  },
  {
   "cell_type": "markdown",
   "metadata": {},
   "source": [
    "## Ejercicio 1"
   ]
  },
  {
   "cell_type": "code",
   "execution_count": 5,
   "metadata": {},
   "outputs": [
    {
     "name": "stdout",
     "output_type": "stream",
     "text": [
      "Get in, there is nothing to see here!\n"
     ]
    }
   ],
   "source": [
    "speed_kps = 19\n",
    "\n",
    "if speed_kps > 25:\n",
    "    print(\"An asteroid is coming!!\")\n",
    "elif speed_kps >= 20:\n",
    "    print(\"Get out there is an light ray in the sky!!\")\n",
    "else:\n",
    "    print(\"Get in, there is nothing to see in the sky!\")"
   ]
  },
  {
   "cell_type": "markdown",
   "metadata": {},
   "source": [
    "## Ejercicio 2"
   ]
  },
  {
   "cell_type": "code",
   "execution_count": 7,
   "metadata": {},
   "outputs": [
    {
     "name": "stdout",
     "output_type": "stream",
     "text": [
      "Ohh no an asteroid is comming and everyone is going to die\n"
     ]
    }
   ],
   "source": [
    "speed_kps = 26\n",
    "asteroid_size = 40\n",
    "\n",
    "if speed_kps > 25 and asteroid_size > 25:\n",
    "    print(\"Ohh no an asteroid is comming and everyone is going to die\")\n",
    "elif speed_kps >= 20:\n",
    "    print(\"Get out there is an light ray in the sky!\")\n",
    "else: \n",
    "    print(\"There is nothing to see here\")\n"
   ]
  }
 ],
 "metadata": {
  "interpreter": {
   "hash": "916dbcbb3f70747c44a77c7bcd40155683ae19c65e1c03b4aa3499c5328201f1"
  },
  "kernelspec": {
   "display_name": "Python 3.9.7 64-bit",
   "language": "python",
   "name": "python3"
  },
  "language_info": {
   "codemirror_mode": {
    "name": "ipython",
    "version": 3
   },
   "file_extension": ".py",
   "mimetype": "text/x-python",
   "name": "python",
   "nbconvert_exporter": "python",
   "pygments_lexer": "ipython3",
   "version": "3.9.7"
  },
  "orig_nbformat": 4
 },
 "nbformat": 4,
 "nbformat_minor": 2
}
