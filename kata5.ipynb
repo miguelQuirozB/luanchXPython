{
 "cells": [
  {
   "cell_type": "markdown",
   "metadata": {},
   "source": [
    "# Kata 5\n",
    "*Autor:* Jose Miguel Quiroz"
   ]
  },
  {
   "cell_type": "markdown",
   "metadata": {},
   "source": [
    "## Ejercicio 1"
   ]
  },
  {
   "cell_type": "code",
   "execution_count": 2,
   "metadata": {},
   "outputs": [
    {
     "name": "stdout",
     "output_type": "stream",
     "text": [
      "628949330\n",
      "390577533.93\n"
     ]
    }
   ],
   "source": [
    "earth = 149597870\n",
    "jupither = 778547200\n",
    "\n",
    "distance = jupither - earth\n",
    "\n",
    "print(distance)\n",
    "\n",
    "kilometer_to_mile = 0.621\n",
    "\n",
    "distance_in_miles = distance * kilometer_to_mile\n",
    "\n",
    "print(distance_in_miles)\n"
   ]
  },
  {
   "cell_type": "markdown",
   "metadata": {},
   "source": [
    "## Ejercicio 2"
   ]
  },
  {
   "cell_type": "code",
   "execution_count": 3,
   "metadata": {},
   "outputs": [
    {
     "name": "stdout",
     "output_type": "stream",
     "text": [
      "-720700000\n",
      "447554700.0\n"
     ]
    }
   ],
   "source": [
    "first_planet = int(input('Introduce la distancia del sol para el primer planeta en KM >'))\n",
    "second_planet = int(input('Introduce la distancia del sol para el segundo planeta en KM >'))\n",
    "\n",
    "distance = first_planet - second_planet\n",
    "\n",
    "print(distance)\n",
    "\n",
    "kilometer_to_mile = 0.621\n",
    "\n",
    "distance_mi = distance * kilometer_to_mile\n",
    "print(abs(distance_mi))\n"
   ]
  }
 ],
 "metadata": {
  "interpreter": {
   "hash": "916dbcbb3f70747c44a77c7bcd40155683ae19c65e1c03b4aa3499c5328201f1"
  },
  "kernelspec": {
   "display_name": "Python 3.9.7 64-bit",
   "language": "python",
   "name": "python3"
  },
  "language_info": {
   "codemirror_mode": {
    "name": "ipython",
    "version": 3
   },
   "file_extension": ".py",
   "mimetype": "text/x-python",
   "name": "python",
   "nbconvert_exporter": "python",
   "pygments_lexer": "ipython3",
   "version": "3.9.7"
  },
  "orig_nbformat": 4
 },
 "nbformat": 4,
 "nbformat_minor": 2
}
